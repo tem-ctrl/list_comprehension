{
 "cells": [
  {
   "cell_type": "markdown",
   "source": [
    "# Python Concepts for Data Science: List Comprehension"
   ],
   "metadata": {}
  },
  {
   "cell_type": "markdown",
   "source": [
    "![List Comprehension](list_comprehension.png) Credit: [Buggy Programmer](http://buggyprogrammer.com)"
   ],
   "metadata": {}
  },
  {
   "cell_type": "markdown",
   "source": [
    "Lists are one of the most used data structures in Python as they allow us to store data in an easy to handle way. The elements of a list can be explicitely written out one after another by the programmer but if the number of elements increases, this task can become quite tedious. One might need an automated list generation technique, hence the concept of list comprehension. List comprehension, which is a simple and powerfull way of creating a list from any existing iterable object. \n",
    "\n",
    "In this post, I will first describe the different ways to create list comprehensions, with examples, then I will state when to avoid using it as every single concept, how powerful it might be, has its own limitations. I will also include the equivalent code using **for loops** to compare with list comprehension, the factor of comparison being the execution time."
   ],
   "metadata": {}
  },
  {
   "cell_type": "markdown",
   "source": [
    "## 1. Simple list comprehension"
   ],
   "metadata": {}
  },
  {
   "cell_type": "markdown",
   "source": [
    "### General syntax of list comprehension\n",
    "A list comprehension is composed of the following items enclosed by square brackets:\n",
    "- An output\n",
    "- A collection\n",
    "- A condition and expression\n",
    "\n",
    "A simple list comprehension doesn't contain a condition. Let's create a simple list comprehension and its equivalent using a `for loop` and evaluate the runtime of each. For the execution time to be consistent, we will be dealing with long lists and only the first 10 elements of each list will be printed."
   ],
   "metadata": {}
  },
  {
   "cell_type": "code",
   "execution_count": 30,
   "source": [
    "import time\r\n",
    "\r\n",
    "# number of iterations\r\n",
    "n_iter = 100000\r\n",
    "\r\n",
    "# list comprehension\r\n",
    "start = time.time()\r\n",
    "x = [i for i in range(n_iter)]\r\n",
    "end = time.time()\r\n",
    "print(f'x = {x[:10]}')\r\n",
    "print(f'Execution time of list comprehension : {(end - start):.2f} seconds\\n')\r\n",
    "\r\n",
    "# For loop\r\n",
    "start = time.time()\r\n",
    "x = []\r\n",
    "for i in range(n_iter):\r\n",
    "    x.append(i)\r\n",
    "end = time.time()\r\n",
    "print(f'x = {x[:10]}')\r\n",
    "print(f'Execution time of for loop : {(end - start):.2f} seconds')"
   ],
   "outputs": [
    {
     "output_type": "stream",
     "name": "stdout",
     "text": [
      "x = [0, 1, 2, 3, 4, 5, 6, 7, 8, 9]\n",
      "Execution time of list comprehension : 0.01 seconds\n",
      "\n",
      "x = [0, 1, 2, 3, 4, 5, 6, 7, 8, 9]\n",
      "Execution time of for loop : 0.05 seconds\n"
     ]
    }
   ],
   "metadata": {}
  },
  {
   "cell_type": "code",
   "execution_count": 84,
   "source": [
    "# list comprehension\r\n",
    "start = time.time()\r\n",
    "x = [i**2 for i in range(n_iter)]\r\n",
    "end = time.time()\r\n",
    "print(f'x = {x[:10]}')\r\n",
    "print(f'Execution time of list comprehension : {(end - start):.2f} seconds\\n')\r\n",
    "\r\n",
    "# For loop\r\n",
    "start = time.time()\r\n",
    "x = []\r\n",
    "for i in range(n_iter):\r\n",
    "    x.append(i**2)\r\n",
    "end = time.time()\r\n",
    "print(f'x = {x[:10]}')\r\n",
    "print(f'Execution time of for loop : {(end - start):.2f} seconds')"
   ],
   "outputs": [
    {
     "output_type": "stream",
     "name": "stdout",
     "text": [
      "x = [0, 1, 4, 9, 16, 25, 36, 49, 64, 81]\n",
      "Execution time of list comprehension : 0.08 seconds\n",
      "\n",
      "x = [0, 1, 4, 9, 16, 25, 36, 49, 64, 81]\n",
      "Execution time of for loop : 0.11 seconds\n"
     ]
    }
   ],
   "metadata": {}
  },
  {
   "cell_type": "markdown",
   "source": [
    "## 2. List Comprehension with *If statement*\r\n",
    "### a. Single *If statement*\r\n",
    "\r\n",
    "In the example below, we create a list of all the integers less than `n_iters` that are divisible by `3`."
   ],
   "metadata": {}
  },
  {
   "cell_type": "code",
   "execution_count": 86,
   "source": [
    "# list comprehension with if statement\r\n",
    "start = time.time()\r\n",
    "x = [i for i in range(n_iter) if i%3 == 0]\r\n",
    "end = time.time()\r\n",
    "print(f'x = {x[:10]}')\r\n",
    "print(f'Execution time of list comprehension : {(end - start):.2f} seconds\\n')\r\n",
    "\r\n",
    "# Equivalent for loop \r\n",
    "start = time.time()\r\n",
    "x = []\r\n",
    "for i in range(n_iter):\r\n",
    "    if i%3 == 0:\r\n",
    "        x.append(i)\r\n",
    "end = time.time()\r\n",
    "print(f'x = {x[:10]}')\r\n",
    "print(f'Execution time of for loop : {(end - start):.2f} seconds')"
   ],
   "outputs": [
    {
     "output_type": "stream",
     "name": "stdout",
     "text": [
      "x = [0, 3, 6, 9, 12, 15, 18, 21, 24, 27]\n",
      "Execution time of list comprehension : 0.03 seconds\n",
      "\n",
      "x = [0, 3, 6, 9, 12, 15, 18, 21, 24, 27]\n",
      "Execution time of for loop : 0.05 seconds\n"
     ]
    }
   ],
   "metadata": {}
  },
  {
   "cell_type": "markdown",
   "source": [
    "###  b. Nested if statement\n",
    "\n",
    "Here the elements of the list must meet two different conditions at the same time. The elements of our list must not only be divisible by `3`, but also by `7`."
   ],
   "metadata": {}
  },
  {
   "cell_type": "code",
   "execution_count": 33,
   "source": [
    "# list comprehension with if statement\r\n",
    "start = time.time()\r\n",
    "x = [i for i in range(n_iter) if i%3 == 0 if i%7 == 0]\r\n",
    "end = time.time()\r\n",
    "print(f'x = {x[:10]}')\r\n",
    "print(f'Execution time of list comprehension : {(end - start):.2f} seconds\\n')\r\n",
    "\r\n",
    "# Equivalent for loop \r\n",
    "start = time.time()\r\n",
    "x = []\r\n",
    "for i in range(n_iter):\r\n",
    "    if i%3 == 0:\r\n",
    "        if i%7 == 0:\r\n",
    "            x.append(i)\r\n",
    "end = time.time()\r\n",
    "print(f'x = {x[:10]}')\r\n",
    "print(f'Execution time of for loop : {(end - start):.2f} seconds')"
   ],
   "outputs": [
    {
     "output_type": "stream",
     "name": "stdout",
     "text": [
      "x = [0, 21, 42, 63, 84, 105, 126, 147, 168, 189]\n",
      "Execution time of list comprehension : 0.03 seconds\n",
      "\n",
      "x = [0, 21, 42, 63, 84, 105, 126, 147, 168, 189]\n",
      "Execution time of for loop : 0.05 seconds\n"
     ]
    }
   ],
   "metadata": {}
  },
  {
   "cell_type": "markdown",
   "source": [
    "## 3. List comprehension with *if...else* statement\r\n",
    "### a. Single *if...else* statement\r\n"
   ],
   "metadata": {}
  },
  {
   "cell_type": "code",
   "execution_count": 39,
   "source": [
    "c = [x if x > 5 else x**2 for x in range(n_iter)]\r\n",
    "c[:10]"
   ],
   "outputs": [
    {
     "output_type": "execute_result",
     "data": {
      "text/plain": [
       "[0, 1, 4, 9, 16, 25, 6, 7, 8, 9]"
      ]
     },
     "metadata": {},
     "execution_count": 39
    }
   ],
   "metadata": {}
  },
  {
   "cell_type": "code",
   "execution_count": 87,
   "source": [
    "# Equivalent to\r\n",
    "c = []\r\n",
    "for x in range(n_iter):\r\n",
    "    if x > 5:\r\n",
    "        c.append(x)\r\n",
    "    else: \r\n",
    "        c.append(x**2)\r\n",
    "c[:10]"
   ],
   "outputs": [
    {
     "output_type": "execute_result",
     "data": {
      "text/plain": [
       "[0, 1, 4, 9, 16, 25, 6, 7, 8, 9]"
      ]
     },
     "metadata": {},
     "execution_count": 87
    }
   ],
   "metadata": {}
  },
  {
   "cell_type": "markdown",
   "source": [
    "### b. Multiple *if...else* statement\r\n",
    "\r\n",
    "In the example below we create a list comprehension `divisors` with `3 if...else` statements that works as follows:\r\n",
    "\r\n",
    "for each elements in `multiples` append\r\n",
    "- `'two'` if this elements divisible by `2`\r\n",
    "- `'three'` if this elements divisible by `3`\r\n",
    "- `'neither'` if this elements neither divisible by `2` nor by `3`\r\n",
    "- `'both'` if the element is divible by both."
   ],
   "metadata": {}
  },
  {
   "cell_type": "code",
   "execution_count": 88,
   "source": [
    "multiples = [0, 54, 86, 1, 5, 9, 2, 45, 6, 75, 23, 14, 5, 65, 81, 60]\r\n",
    "divisors = ['two' if (x%2==0 and x%3!=0) else \"three\" if (x%3==0 and x%2!=0) else 'both' if (x%3==0 and x%2==0)  else 'neither' for x in multiples]\r\n",
    "print(divisors)"
   ],
   "outputs": [
    {
     "output_type": "stream",
     "name": "stdout",
     "text": [
      "['both', 'both', 'two', 'neither', 'neither', 'three', 'two', 'three', 'both', 'three', 'neither', 'two', 'neither', 'neither', 'three', 'both']\n"
     ]
    }
   ],
   "metadata": {}
  },
  {
   "cell_type": "code",
   "execution_count": 89,
   "source": [
    "# Equivalent\r\n",
    "divisors = []\r\n",
    "for x in multiples:\r\n",
    "    if x%2 == 0 and x%3 != 0:\r\n",
    "        divisors.append('two')\r\n",
    "    elif x%3 == 0 and x%2 != 0:\r\n",
    "        divisors.append(\"three\")\r\n",
    "    elif x%3 == 0 and x%2 == 0:\r\n",
    "        divisors.append(\"both\")\r\n",
    "    else: \r\n",
    "        divisors.append('neither')\r\n",
    "\r\n",
    "print(divisors)"
   ],
   "outputs": [
    {
     "output_type": "stream",
     "name": "stdout",
     "text": [
      "['both', 'both', 'two', 'neither', 'neither', 'three', 'two', 'three', 'both', 'three', 'neither', 'two', 'neither', 'neither', 'three', 'both']\n"
     ]
    }
   ],
   "metadata": {}
  },
  {
   "cell_type": "markdown",
   "source": [
    "### 4. List comprehension with nested *for loops*\r\n",
    "\r\n",
    "In the example below, we create a list `target` of tuples of elements from two source lists `src1` and `src2`."
   ],
   "metadata": {}
  },
  {
   "cell_type": "code",
   "execution_count": 90,
   "source": [
    "src1 = [i for i in range(3)]\r\n",
    "src2 = [j for j in range(2)]\r\n",
    "target = [(x,y) for x in src1 for y in src2]\r\n",
    "print(target)"
   ],
   "outputs": [
    {
     "output_type": "stream",
     "name": "stdout",
     "text": [
      "[(0, 0), (0, 1), (1, 0), (1, 1), (2, 0), (2, 1)]\n"
     ]
    }
   ],
   "metadata": {}
  },
  {
   "cell_type": "code",
   "execution_count": 91,
   "source": [
    "# Equivalent\r\n",
    "target = []\r\n",
    "for x in src1:\r\n",
    "    for y in src2:\r\n",
    "        target.append((x,y))\r\n",
    "print(target)"
   ],
   "outputs": [
    {
     "output_type": "stream",
     "name": "stdout",
     "text": [
      "[(0, 0), (0, 1), (1, 0), (1, 1), (2, 0), (2, 1)]\n"
     ]
    }
   ],
   "metadata": {}
  }
 ],
 "metadata": {
  "kernelspec": {
   "display_name": "Python 3",
   "language": "python",
   "name": "python3"
  },
  "language_info": {
   "codemirror_mode": {
    "name": "ipython",
    "version": 3
   },
   "file_extension": ".py",
   "mimetype": "text/x-python",
   "name": "python",
   "nbconvert_exporter": "python",
   "pygments_lexer": "ipython3",
   "version": "3.8.8"
  }
 },
 "nbformat": 4,
 "nbformat_minor": 5
}